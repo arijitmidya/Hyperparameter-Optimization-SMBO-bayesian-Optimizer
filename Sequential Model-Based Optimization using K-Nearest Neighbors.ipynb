{
 "cells": [
  {
   "attachments": {
    "3619dff8-12cb-44a6-bf54-47e122fb5b7e.png": {
     "image/png": "[encoded data removed]"
    }
   },
   "cell_type": "markdown",
   "metadata": {
    "pycharm": {
     "name": "#%% md\n"
    }
   },
   "source": [
    "# sequential model-based optimization (SMBO) method \n",
    "\n",
    "What is the sequential model-based optimization method?\n",
    "\r\n",
    "Sequential model-based optimization (SMBO) is a powerful method for hyperparameter tuning in ML algorithms. It uses a probabilistic model (surrogate model) to predict the performance of different combinations of hyperparameters based on previously evaluated configurations or combinations. The probabilistic model is then used to suggest the next combination of hyperparameters to evaluate the performance of the ML model and determine whether it produces better results or not\n",
    "\n",
    "The goal of this method is to cut down on the number of evaluations needed to find the best solution or the best combination of hyperparameters that produces the best results. For example, instead of doing 20 \r\n",
    " evaluations to find the best combination of hyperparameters to get the best results, this method might only requi10 \n",
    "10\r\n",
    " evaluations or less to find the best combination of hyperparameters. This can save a significant amount of time and the resources necessary for computation.\r\n",
    "\r\n",
    "At a high level, Bayesian optimization methods are effective due to the fact that they select the next combination of hyperparameters in an informed manner. By using past evaluations and updating a probabilistic model at each iteration, the algorithm selects combinations of hyperparameters that have the highest probability of producing good \n",
    "\n",
    "![image.png](attachment:3619dff8-12cb-44a6-bf54-47e122fb5b7e.png)\n",
    "\n",
    "The above illustration shows how the SMBO method selects a combination of hyperparameter values.\r\n",
    "\r\n",
    "One of the key benefits of SMBO is that it allows the algorithm to focus its evaluations on the most promising hyperparameter combinations. This differs from the grid search method or random search method learned in previous lessons. The grid or random search methods tend to evaluate every combination of hyperparameters in the search space, regardless of how promising they are likely to be.\r\n",
    "\r\n",
    "By focusing on the most promising hyperparameters, the SMBO method can significantly reduce the number of evaluations required to find an optimal solution or the best combination of hyperparameters to produce the best resu\n",
    "\n",
    "Benefits of SMBO : \n",
    "\r\n",
    "SMBO efficiently selects and evaluates hyperparameters for ML models by updating its probabilistic internal model based on promising outcomes, thus saving computational resources.\r\n",
    "\r\n",
    "SMBO can also strike a balance between exploring new hyperparameters and exploiting those with potential, facilitated by its probabilistic model. This enables a comprehensive search of the hyperparameter space and avoids suboptimal outcomes.\r\n",
    "\r\n",
    "SMBO is a powerful and successful technique for tuning hyperparameters in ML algorithms. By utilizing probabilistic models to predict the performance of different hyperparameter combinations, SMBO significantly reduces the number of evaluations required to find the optimal solution. This method has been widely adopted and appreciated by ML practitioners and data scientists due to its ability to save time and resources while simultaneously improving algorithm performance.lts.results.."
   ]
  },
  {
   "attachments": {},
   "cell_type": "markdown",
   "metadata": {
    "pycharm": {
     "name": "#%% md\n"
    }
   },
   "source": [
    "## Import Important packages\n",
    "First, we import important Python packages that will do the following tasks:\n",
    "\n",
    "- Load the dataset.\n",
    "- Clean the dataset.\n",
    "- Process the dataset using feature engineering techniques.\n",
    "- Create and train machine learning model (K-nearest neighbors) with default hyperparameters.\n",
    "- Check machine learning model performance.\n",
    "- Implement sequential model-based optimization method using scikit-optimize library.\n",
    "- Identify combination of hyperparameters that provide the best results.\n",
    "\n",
    "\n"
   ]
  },
  {
   "cell_type": "code",
   "execution_count": 1,
   "metadata": {
    "ExecuteTime": {
     "end_time": "2024-02-21T18:59:43.918554Z",
     "start_time": "2024-02-21T18:59:43.911218Z"
    },
    "pycharm": {
     "name": "#%%\n"
    }
   },
   "outputs": [],
   "source": [
    "# import important modules\n",
    "import numpy as np\n",
    "import pandas as pd\n",
    "\n",
    "# sklearn modules\n",
    "from sklearn.neighbors import KNeighborsClassifier\n",
    "from sklearn.metrics import f1_score\n",
    "from sklearn.model_selection import cross_val_score\n",
    "from sklearn.preprocessing import MinMaxScaler\n",
    "\n",
    "import warnings\n",
    "warnings.filterwarnings(\"ignore\")\n",
    "# Seeding\n",
    "np.random.seed(123)"
   ]
  },
  {
   "attachments": {},
   "cell_type": "markdown",
   "metadata": {
    "pycharm": {
     "name": "#%% md\n"
    }
   },
   "source": [
    "\n",
    "## Load the dataset\n",
    "We will use pandas to load the dataset from the data folder. The name of the dataset is\n",
    "loan_data.csv."
   ]
  },
  {
   "cell_type": "code",
   "execution_count": 2,
   "metadata": {
    "ExecuteTime": {
     "end_time": "2024-02-21T18:59:43.929378Z",
     "start_time": "2024-02-21T18:59:43.921335Z"
    },
    "pycharm": {
     "name": "#%%\n"
    }
   },
   "outputs": [],
   "source": [
    "# Load data\n",
    "\n",
    "data_path = \"loan_data.csv\"\n",
    "\n",
    "data = pd.read_csv(data_path)"
   ]
  },
  {
   "attachments": {},
   "cell_type": "markdown",
   "metadata": {
    "pycharm": {
     "name": "#%% md\n"
    }
   },
   "source": [
    "Let’s see the first five rows of the dataset using the head() method from pandas."
   ]
  },
  {
   "cell_type": "code",
   "execution_count": 3,
   "metadata": {
    "ExecuteTime": {
     "end_time": "2024-02-21T18:59:43.940579Z",
     "start_time": "2024-02-21T18:59:43.930910Z"
    },
    "pycharm": {
     "name": "#%%\n"
    }
   },
   "outputs": [
    {
     "data": {
      "text/html": [
       "<div>\n",
       "<style scoped>\n",
       "    .dataframe tbody tr th:only-of-type {\n",
       "        vertical-align: middle;\n",
       "    }\n",
       "\n",
       "    .dataframe tbody tr th {\n",
       "        vertical-align: top;\n",
       "    }\n",
       "\n",
       "    .dataframe thead th {\n",
       "        text-align: right;\n",
       "    }\n",
       "</style>\n",
       "<table border=\"1\" class=\"dataframe\">\n",
       "  <thead>\n",
       "    <tr style=\"text-align: right;\">\n",
       "      <th></th>\n",
       "      <th>Loan_ID</th>\n",
       "      <th>Gender</th>\n",
       "      <th>Married</th>\n",
       "      <th>Dependents</th>\n",
       "      <th>Education</th>\n",
       "      <th>Self_Employed</th>\n",
       "      <th>ApplicantIncome</th>\n",
       "      <th>CoapplicantIncome</th>\n",
       "      <th>LoanAmount</th>\n",
       "      <th>Loan_Amount_Term</th>\n",
       "      <th>Credit_History</th>\n",
       "      <th>Property_Area</th>\n",
       "      <th>Loan_Status</th>\n",
       "    </tr>\n",
       "  </thead>\n",
       "  <tbody>\n",
       "    <tr>\n",
       "      <th>0</th>\n",
       "      <td>LP001002</td>\n",
       "      <td>Male</td>\n",
       "      <td>No</td>\n",
       "      <td>0</td>\n",
       "      <td>Graduate</td>\n",
       "      <td>No</td>\n",
       "      <td>5849</td>\n",
       "      <td>0.0</td>\n",
       "      <td>NaN</td>\n",
       "      <td>360.0</td>\n",
       "      <td>1.0</td>\n",
       "      <td>Urban</td>\n",
       "      <td>Y</td>\n",
       "    </tr>\n",
       "    <tr>\n",
       "      <th>1</th>\n",
       "      <td>LP001003</td>\n",
       "      <td>Male</td>\n",
       "      <td>Yes</td>\n",
       "      <td>1</td>\n",
       "      <td>Graduate</td>\n",
       "      <td>No</td>\n",
       "      <td>4583</td>\n",
       "      <td>1508.0</td>\n",
       "      <td>128.0</td>\n",
       "      <td>360.0</td>\n",
       "      <td>1.0</td>\n",
       "      <td>Rural</td>\n",
       "      <td>N</td>\n",
       "    </tr>\n",
       "    <tr>\n",
       "      <th>2</th>\n",
       "      <td>LP001005</td>\n",
       "      <td>Male</td>\n",
       "      <td>Yes</td>\n",
       "      <td>0</td>\n",
       "      <td>Graduate</td>\n",
       "      <td>Yes</td>\n",
       "      <td>3000</td>\n",
       "      <td>0.0</td>\n",
       "      <td>66.0</td>\n",
       "      <td>360.0</td>\n",
       "      <td>1.0</td>\n",
       "      <td>Urban</td>\n",
       "      <td>Y</td>\n",
       "    </tr>\n",
       "    <tr>\n",
       "      <th>3</th>\n",
       "      <td>LP001006</td>\n",
       "      <td>Male</td>\n",
       "      <td>Yes</td>\n",
       "      <td>0</td>\n",
       "      <td>Not Graduate</td>\n",
       "      <td>No</td>\n",
       "      <td>2583</td>\n",
       "      <td>2358.0</td>\n",
       "      <td>120.0</td>\n",
       "      <td>360.0</td>\n",
       "      <td>1.0</td>\n",
       "      <td>Urban</td>\n",
       "      <td>Y</td>\n",
       "    </tr>\n",
       "    <tr>\n",
       "      <th>4</th>\n",
       "      <td>LP001008</td>\n",
       "      <td>Male</td>\n",
       "      <td>No</td>\n",
       "      <td>0</td>\n",
       "      <td>Graduate</td>\n",
       "      <td>No</td>\n",
       "      <td>6000</td>\n",
       "      <td>0.0</td>\n",
       "      <td>141.0</td>\n",
       "      <td>360.0</td>\n",
       "      <td>1.0</td>\n",
       "      <td>Urban</td>\n",
       "      <td>Y</td>\n",
       "    </tr>\n",
       "  </tbody>\n",
       "</table>\n",
       "</div>"
      ],
      "text/plain": [
       "    Loan_ID Gender Married Dependents     Education Self_Employed  \\\n",
       "0  LP001002   Male      No          0      Graduate            No   \n",
       "1  LP001003   Male     Yes          1      Graduate            No   \n",
       "2  LP001005   Male     Yes          0      Graduate           Yes   \n",
       "3  LP001006   Male     Yes          0  Not Graduate            No   \n",
       "4  LP001008   Male      No          0      Graduate            No   \n",
       "\n",
       "   ApplicantIncome  CoapplicantIncome  LoanAmount  Loan_Amount_Term  \\\n",
       "0             5849                0.0         NaN             360.0   \n",
       "1             4583             1508.0       128.0             360.0   \n",
       "2             3000                0.0        66.0             360.0   \n",
       "3             2583             2358.0       120.0             360.0   \n",
       "4             6000                0.0       141.0             360.0   \n",
       "\n",
       "   Credit_History Property_Area Loan_Status  \n",
       "0             1.0         Urban           Y  \n",
       "1             1.0         Rural           N  \n",
       "2             1.0         Urban           Y  \n",
       "3             1.0         Urban           Y  \n",
       "4             1.0         Urban           Y  "
      ]
     },
     "execution_count": 3,
     "metadata": {},
     "output_type": "execute_result"
    }
   ],
   "source": [
    "# Show the top five rows of data\n",
    "data.head()"
   ]
  },
  {
   "attachments": {},
   "cell_type": "markdown",
   "metadata": {
    "pycharm": {
     "name": "#%% md\n"
    }
   },
   "source": [
    "As we can see, the dataset has 13 columns.\n",
    "\n",
    "- Loan_ID: Unique loan ID\n",
    "- Gender: Male/Female \n",
    "- Married: Applicant married (Y/N)\n",
    "- Dependents: Number of dependents\n",
    "- Education: Applicant education (Graduate/Undergraduate)\n",
    "- Self_Employed: Self-employed (Y/N)\n",
    "- ApplicantIncome: Applicant income\n",
    "- CoapplicantIncome: Co-applicant income\n",
    "- LoanAmount: Loan amount in thousands\n",
    "- Loan_Amount_Term: Term of the loan in months\n",
    "- Credit_History: Credit history meets guidelines\n",
    "- Property_Area: Urban/Semi-Urban/Rural\n",
    "- Loan_Status: Loan approved (Y/N)\n",
    "\n",
    "The shape method from pandas will let us know the total number of rows and columns available in\n",
    "the dataset."
   ]
  },
  {
   "cell_type": "code",
   "execution_count": 5,
   "metadata": {
    "ExecuteTime": {
     "end_time": "2024-02-21T18:59:43.945956Z",
     "start_time": "2024-02-21T18:59:43.943510Z"
    },
    "pycharm": {
     "name": "#%%\n"
    }
   },
   "outputs": [
    {
     "data": {
      "text/plain": [
       "(614, 13)"
      ]
     },
     "execution_count": 5,
     "metadata": {},
     "output_type": "execute_result"
    }
   ],
   "source": [
    "# Check the shape of the data\n",
    "data.shape"
   ]
  },
  {
   "attachments": {},
   "cell_type": "markdown",
   "metadata": {},
   "source": [
    "The dataset has 614 loan data."
   ]
  },
  {
   "attachments": {},
   "cell_type": "markdown",
   "metadata": {},
   "source": [
    "The pandas method called info() provides more details about each column presented in the dataset."
   ]
  },
  {
   "cell_type": "code",
   "execution_count": 6,
   "metadata": {
    "ExecuteTime": {
     "end_time": "2024-02-21T18:59:43.952688Z",
     "start_time": "2024-02-21T18:59:43.946929Z"
    }
   },
   "outputs": [
    {
     "name": "stdout",
     "output_type": "stream",
     "text": [
      "<class 'pandas.core.frame.DataFrame'>\n",
      "RangeIndex: 614 entries, 0 to 613\n",
      "Data columns (total 13 columns):\n",
      " #   Column             Non-Null Count  Dtype  \n",
      "---  ------             --------------  -----  \n",
      " 0   Loan_ID            614 non-null    object \n",
      " 1   Gender             601 non-null    object \n",
      " 2   Married            611 non-null    object \n",
      " 3   Dependents         599 non-null    object \n",
      " 4   Education          614 non-null    object \n",
      " 5   Self_Employed      582 non-null    object \n",
      " 6   ApplicantIncome    614 non-null    int64  \n",
      " 7   CoapplicantIncome  614 non-null    float64\n",
      " 8   LoanAmount         592 non-null    float64\n",
      " 9   Loan_Amount_Term   600 non-null    float64\n",
      " 10  Credit_History     564 non-null    float64\n",
      " 11  Property_Area      614 non-null    object \n",
      " 12  Loan_Status        614 non-null    object \n",
      "dtypes: float64(4), int64(1), object(8)\n",
      "memory usage: 62.5+ KB\n"
     ]
    }
   ],
   "source": [
    "data.info()"
   ]
  },
  {
   "attachments": {},
   "cell_type": "markdown",
   "metadata": {},
   "source": [
    "The information above shows that the dataset has columns with different data types, such as object/string, integers, and float."
   ]
  },
  {
   "attachments": {},
   "cell_type": "markdown",
   "metadata": {
    "pycharm": {
     "name": "#%% md\n"
    }
   },
   "source": [
    "## Check missing values\n",
    "\n",
    "It is important to clean the dataset by checking if it has any missing values before starting to\n",
    "train the machine learning model.\n",
    "\n",
    "The following code will provide a total of missing values for each column presented in the dataset."
   ]
  },
  {
   "cell_type": "code",
   "execution_count": 7,
   "metadata": {
    "ExecuteTime": {
     "end_time": "2024-02-21T18:59:43.956414Z",
     "start_time": "2024-02-21T18:59:43.953486Z"
    },
    "pycharm": {
     "name": "#%%\n"
    }
   },
   "outputs": [
    {
     "data": {
      "text/plain": [
       "Loan_ID               0\n",
       "Gender               13\n",
       "Married               3\n",
       "Dependents           15\n",
       "Education             0\n",
       "Self_Employed        32\n",
       "ApplicantIncome       0\n",
       "CoapplicantIncome     0\n",
       "LoanAmount           22\n",
       "Loan_Amount_Term     14\n",
       "Credit_History       50\n",
       "Property_Area         0\n",
       "Loan_Status           0\n",
       "dtype: int64"
      ]
     },
     "execution_count": 7,
     "metadata": {},
     "output_type": "execute_result"
    }
   ],
   "source": [
    "# Check the missing values in data\n",
    "data.isnull().sum()"
   ]
  },
  {
   "attachments": {},
   "cell_type": "markdown",
   "metadata": {
    "pycharm": {
     "name": "#%% md\n"
    }
   },
   "source": [
    "The output shows that our dataset has some missing values in different columns."
   ]
  },
  {
   "attachments": {},
   "cell_type": "markdown",
   "metadata": {},
   "source": [
    "First, let’s convert some values in the Loan_Status and Dependents columns into numerical values."
   ]
  },
  {
   "cell_type": "code",
   "execution_count": 8,
   "metadata": {},
   "outputs": [
    {
     "data": {
      "text/plain": [
       "0     345\n",
       "1     102\n",
       "2     101\n",
       "3+     51\n",
       "Name: Dependents, dtype: int64"
      ]
     },
     "execution_count": 8,
     "metadata": {},
     "output_type": "execute_result"
    }
   ],
   "source": [
    "data['Dependents'].value_counts()"
   ]
  },
  {
   "cell_type": "code",
   "execution_count": 9,
   "metadata": {},
   "outputs": [
    {
     "data": {
      "text/plain": [
       "Y    422\n",
       "N    192\n",
       "Name: Loan_Status, dtype: int64"
      ]
     },
     "execution_count": 9,
     "metadata": {},
     "output_type": "execute_result"
    }
   ],
   "source": [
    "data['Loan_Status'].value_counts()"
   ]
  },
  {
   "cell_type": "code",
   "execution_count": 10,
   "metadata": {
    "ExecuteTime": {
     "end_time": "2024-02-21T18:59:43.959642Z",
     "start_time": "2024-02-21T18:59:43.957176Z"
    }
   },
   "outputs": [],
   "source": [
    "# Replace with numerical values\n",
    "data['Dependents'].replace('3+', 3,inplace=True)\n",
    "data['Loan_Status'].replace('N', 0,inplace=True)\n",
    "data['Loan_Status'].replace('Y', 1,inplace=True)"
   ]
  },
  {
   "attachments": {},
   "cell_type": "markdown",
   "metadata": {},
   "source": [
    "For columns with object data type, we use the mode() function from pandas to identify the most common value in that particular column and insert the identified value into all missing points in the column.\n",
    "\n",
    "For columns with numerical data type(int64 or float64), we use the median() function from pandas to find the median value in that particular column and insert the identified value into all missing points in the column."
   ]
  },
  {
   "cell_type": "code",
   "execution_count": 15,
   "metadata": {},
   "outputs": [
    {
     "data": {
      "text/plain": [
       "Loan_ID              0.00\n",
       "Gender               2.12\n",
       "Married              0.49\n",
       "Dependents           2.44\n",
       "Education            0.00\n",
       "Self_Employed        5.21\n",
       "ApplicantIncome      0.00\n",
       "CoapplicantIncome    0.00\n",
       "LoanAmount           3.58\n",
       "Loan_Amount_Term     2.28\n",
       "Credit_History       8.14\n",
       "Property_Area        0.00\n",
       "Loan_Status          0.00\n",
       "dtype: float64"
      ]
     },
     "execution_count": 15,
     "metadata": {},
     "output_type": "execute_result"
    }
   ],
   "source": [
    "round(100*(data.isnull().sum()/len(data.index)),2)"
   ]
  },
  {
   "cell_type": "code",
   "execution_count": 16,
   "metadata": {
    "ExecuteTime": {
     "end_time": "2024-02-21T18:59:43.964831Z",
     "start_time": "2024-02-21T18:59:43.960386Z"
    }
   },
   "outputs": [],
   "source": [
    "# Handle missing data \n",
    "data['Gender'].fillna(data['Gender'].mode()[0], inplace=True)\n",
    "data['Married'].fillna(data['Married'].mode()[0], inplace=True)\n",
    "data['Dependents'].fillna(data['Dependents'].mode()[0], inplace=True)\n",
    "data['Self_Employed'].fillna(data['Self_Employed'].mode()[0], inplace=True)\n",
    "data['Credit_History'].fillna(data['Credit_History'].mode()[0], inplace=True)\n",
    "data['Loan_Amount_Term'].fillna(data['Loan_Amount_Term'].mode()[0], inplace=True)\n",
    "data['LoanAmount'].fillna(data['LoanAmount'].median(), inplace=True)"
   ]
  },
  {
   "attachments": {},
   "cell_type": "markdown",
   "metadata": {},
   "source": [
    "We drop the ID column because it is not used in the process of training a machine learning model."
   ]
  },
  {
   "cell_type": "code",
   "execution_count": 17,
   "metadata": {
    "ExecuteTime": {
     "end_time": "2024-02-21T18:59:43.967340Z",
     "start_time": "2024-02-21T18:59:43.965759Z"
    }
   },
   "outputs": [],
   "source": [
    "# Drop ID column\n",
    "data = data.drop('Loan_ID',axis=1)"
   ]
  },
  {
   "attachments": {},
   "cell_type": "markdown",
   "metadata": {},
   "source": [
    "Let's check again if all missing values in the dataset have been handled."
   ]
  },
  {
   "cell_type": "code",
   "execution_count": 18,
   "metadata": {
    "ExecuteTime": {
     "end_time": "2024-02-21T18:59:43.972085Z",
     "start_time": "2024-02-21T18:59:43.969388Z"
    }
   },
   "outputs": [
    {
     "data": {
      "text/plain": [
       "Gender               0\n",
       "Married              0\n",
       "Dependents           0\n",
       "Education            0\n",
       "Self_Employed        0\n",
       "ApplicantIncome      0\n",
       "CoapplicantIncome    0\n",
       "LoanAmount           0\n",
       "Loan_Amount_Term     0\n",
       "Credit_History       0\n",
       "Property_Area        0\n",
       "Loan_Status          0\n",
       "dtype: int64"
      ]
     },
     "execution_count": 18,
     "metadata": {},
     "output_type": "execute_result"
    }
   ],
   "source": [
    "# Check missing values in data\n",
    "data.isnull().sum()"
   ]
  },
  {
   "attachments": {},
   "cell_type": "markdown",
   "metadata": {
    "ExecuteTime": {
     "end_time": "2023-03-28T18:54:34.003611Z",
     "start_time": "2023-03-28T18:54:33.988691Z"
    }
   },
   "source": [
    "Finally, the dataset does not have any missing values."
   ]
  },
  {
   "attachments": {},
   "cell_type": "markdown",
   "metadata": {
    "pycharm": {
     "name": "#%% md\n"
    }
   },
   "source": [
    "## How to evaluate class distribution\n",
    "Identifying the class distribution helps us to know if the dataset is balanced or not. The value_counts() method from the pandas package can evaluate the class distribution by showing the total number of each unique value in the target column."
   ]
  },
  {
   "cell_type": "code",
   "execution_count": 19,
   "metadata": {
    "ExecuteTime": {
     "end_time": "2024-02-21T18:59:43.975103Z",
     "start_time": "2024-02-21T18:59:43.972869Z"
    },
    "pycharm": {
     "name": "#%%\n"
    }
   },
   "outputs": [
    {
     "data": {
      "text/plain": [
       "1    422\n",
       "0    192\n",
       "Name: Loan_Status, dtype: int64"
      ]
     },
     "execution_count": 19,
     "metadata": {},
     "output_type": "execute_result"
    }
   ],
   "source": [
    "# Evaluate the Loan_status column\n",
    "data.Loan_Status.value_counts()"
   ]
  },
  {
   "attachments": {},
   "cell_type": "markdown",
   "metadata": {
    "pycharm": {
     "name": "#%% md\n"
    }
   },
   "source": [
    "This shows that in this dataset, the distribution in the target column is unequal. There are more 1 values (Yes) than 0 values (No)."
   ]
  },
  {
   "attachments": {},
   "cell_type": "markdown",
   "metadata": {
    "pycharm": {
     "name": "#%% md\n"
    }
   },
   "source": [
    "## Split data into feature and target variables\n",
    "\n",
    "The next step is to split data into feature and target variables."
   ]
  },
  {
   "cell_type": "code",
   "execution_count": 20,
   "metadata": {
    "ExecuteTime": {
     "end_time": "2024-02-21T18:59:43.978267Z",
     "start_time": "2024-02-21T18:59:43.975849Z"
    },
    "pycharm": {
     "name": "#%%\n"
    }
   },
   "outputs": [],
   "source": [
    "#split features and target from  data\n",
    "X = data.drop('Loan_Status',axis = 1)\n",
    "y = data.Loan_Status.values"
   ]
  },
  {
   "attachments": {},
   "cell_type": "markdown",
   "metadata": {
    "pycharm": {
     "name": "#%% md\n"
    }
   },
   "source": [
    "The target is the Loan_Status variable."
   ]
  },
  {
   "attachments": {},
   "cell_type": "markdown",
   "metadata": {
    "pycharm": {
     "name": "#%% md\n"
    }
   },
   "source": [
    "## Preprocess the features\n",
    "\n",
    "However, before we train the machine learning model, we need to transform our features into numerical values so that the machine learning model can understand the data. In this case, we will use: \n",
    "\n",
    "- The **MinMaxScaler()** method from scikit-learn to scale the minimum and maximum values to be 0 and 1, respectively, for the columns with int64 and float64 data types.\n",
    "- The **get_dummies()** method from pandas to convert categorical variables into indicator variables. These variables will have a value of 0 or 1. This method can automatically identify categorical variables and convert them into indicator variables with a value of 0 or 1."
   ]
  },
  {
   "cell_type": "code",
   "execution_count": 21,
   "metadata": {
    "ExecuteTime": {
     "end_time": "2024-02-21T18:59:43.982279Z",
     "start_time": "2024-02-21T18:59:43.979240Z"
    },
    "pycharm": {
     "name": "#%%\n"
    }
   },
   "outputs": [],
   "source": [
    "#Scale the numerical columns with MinMaxScaler() \n",
    "X[\"ApplicantIncome\"] = MinMaxScaler().fit_transform(X[\"ApplicantIncome\"].values.reshape(-1,1))\n",
    "X[\"LoanAmount\"] = MinMaxScaler().fit_transform(X[\"LoanAmount\"].values.reshape(-1,1))\n",
    "X[\"CoapplicantIncome\"] = MinMaxScaler().fit_transform(X[\"CoapplicantIncome\"].values.reshape(-1,1))\n",
    "X[\"Loan_Amount_Term\"] = MinMaxScaler().fit_transform(X[\"Loan_Amount_Term\"].values.reshape(-1,1))"
   ]
  },
  {
   "cell_type": "code",
   "execution_count": 22,
   "metadata": {
    "ExecuteTime": {
     "end_time": "2024-02-21T18:59:43.986990Z",
     "start_time": "2024-02-21T18:59:43.983238Z"
    }
   },
   "outputs": [],
   "source": [
    "#Change categorical features to numerical with get_dummies() \n",
    "X = pd.get_dummies(X)\n",
    "\n",
    "#Convert the DataFrame to a NumPy array. \n",
    "X = X.to_numpy()"
   ]
  },
  {
   "attachments": {},
   "cell_type": "markdown",
   "metadata": {
    "pycharm": {
     "name": "#%% md\n"
    }
   },
   "source": [
    "## Train a Base machine learning model\n",
    "\n",
    "In this example,we will train the K-nearest neighbors algorithm with default hyperparameter values using the cross-validation technique to check the model performance.\n"
   ]
  },
  {
   "cell_type": "code",
   "execution_count": 24,
   "metadata": {
    "ExecuteTime": {
     "end_time": "2024-02-21T18:59:43.989278Z",
     "start_time": "2024-02-21T18:59:43.988043Z"
    },
    "pycharm": {
     "name": "#%%\n"
    }
   },
   "outputs": [],
   "source": [
    "# Create a classifier\n",
    "knn_classifier = KNeighborsClassifier()"
   ]
  },
  {
   "attachments": {},
   "cell_type": "markdown",
   "metadata": {},
   "source": [
    "We will use the `cross_val_score()` method from scikit-learn to train and evaluate a machine learning model across numerous folds of the dataset. This cross-validation method provides a more comprehensive understanding of the model’s performance across the entire dataset than a simple train/test split.\n",
    "\n",
    "\n",
    "To use `cross_val_score()` method, we need to define the following parameters:\n",
    "\n",
    "1. `estimator`: The machine learning model object to fit the data\n",
    "2. `X`: The data/features to fit the machine learning model on\n",
    "3. `y`: The target variable of the model classification or regression tasks\n",
    "4. `scoring`: The evaluation error metric to use\n",
    "5. `cv`: The number of splits to use (example 3).\n",
    "\n",
    "\n",
    "The main goal is to prevent model over-fitting and promote model generalization.\n",
    "\n",
    "\n",
    "Note: The machine learning model’s performance will be evaluated using the f1_score evaluation metric. We use f1_score because we have an unequal number of classes in the Loan_Status variable."
   ]
  },
  {
   "cell_type": "code",
   "execution_count": 25,
   "metadata": {
    "ExecuteTime": {
     "end_time": "2024-02-21T18:59:44.493999Z",
     "start_time": "2024-02-21T18:59:43.989942Z"
    }
   },
   "outputs": [
    {
     "name": "stdout",
     "output_type": "stream",
     "text": [
      "0.5671\n"
     ]
    }
   ],
   "source": [
    "# Define function to evaluate f1_score\n",
    "def f1_scorer(estimator, X, y):\n",
    "    y_preds = estimator.predict(X)\n",
    "    f1 = f1_score(y, y_preds, average='macro')\n",
    "    return round(f1, 4)\n",
    "\n",
    "\n",
    "# Implement and run the cross-val-score method\n",
    "score = cross_val_score(estimator=knn_classifier,\n",
    "                        X=X,\n",
    "                        y=y,\n",
    "                        scoring=f1_scorer,\n",
    "                        cv=3,\n",
    "                        n_jobs=-1)\n",
    "\n",
    "# Print the mean score\n",
    "print(round(score.mean(), 4))"
   ]
  },
  {
   "attachments": {},
   "cell_type": "markdown",
   "metadata": {
    "pycharm": {
     "name": "#%% md\n"
    }
   },
   "source": [
    "The mean score of our machine learning model is 0.5671, we need to improve the model performance in order to produce better result."
   ]
  },
  {
   "attachments": {},
   "cell_type": "markdown",
   "metadata": {
    "pycharm": {
     "name": "#%% md\n"
    }
   },
   "source": [
    "## Implement the sequential model-based optimization method\n",
    "\n",
    "Since we know how well the machine learning model works with the default hyperparameter values, we can try to improve the model’s performance using the sequential model-based optimization method to find the combination of hyperparameter values that can give an F1-score of more than 0.5671.\n",
    "\n",
    "The K-nearest neighbors algorithm has multiple hyperparameters, as shown below:\n",
    "\n",
    "`KNeighborsClassifier(n_neighbors=5, *, weights='uniform', algorithm='auto', leaf_size=30, p=2, metric='minkowski', metric_params=None, n_jobs=None)` [source](https://github.com/scikit-learn/scikit-learn/blob/364c77e04/sklearn/neighbors/_classification.py#L24)\n",
    "\n",
    "However, for this example, we will use the following important hyperparameters to find the right combination of their values to get an F1-score greater than 0.5671.\n",
    "\n",
    "- `n_neighbors`: The number of neighbors to use\n",
    "- `weights`: The weight function used in prediction\n",
    "- `algorithm`: The algorithm used to compute the nearest neighbors\n",
    "- `leaf_size`: The leaf size passed to BallTree or KDTree"
   ]
  },
  {
   "attachments": {},
   "cell_type": "markdown",
   "metadata": {
    "pycharm": {
     "name": "#%% md\n"
    }
   },
   "source": [
    "To implement the sequential model-based optimization method using the scikit-optimize library, we need to define the following important parameters.\n",
    "\n",
    "- `Estimator`: The machine learning algorithm to train with different combinations of\n",
    "hyperparameter values. For our case, we use K-nearest neighbors.\n",
    "- `space`: The dictionary with parameter names (string value) as keys and\n",
    "distributions or lists of parameters to try (search space)\n",
    "- `objective function`: The function used to evaluate a given configuration of hyperparameters\n",
    "- `Optimizer`: The function that is responsible for carrying out the process of Bayesian hyperparameter optimization."
   ]
  },
  {
   "cell_type": "code",
   "execution_count": 26,
   "metadata": {
    "ExecuteTime": {
     "end_time": "2024-02-21T18:59:44.501593Z",
     "start_time": "2024-02-21T18:59:44.496146Z"
    },
    "pycharm": {
     "name": "#%%\n"
    }
   },
   "outputs": [],
   "source": [
    "# Import scikit-optimize module to define the search space\n",
    "from skopt.space import Integer, Real, Categorical \n",
    "\n",
    "# Define the parameters for the sequential model-based optimization method\n",
    "\n",
    "#1. Param distributions (define the search space)\n",
    "search_space = list()\n",
    "search_space.append(Categorical(['uniform', 'distance'], name='weights'))\n",
    "search_space.append(Integer(5, 30, name='n_neighbors'))\n",
    "search_space.append(Integer(20, 60, name='leaf_size'))\n",
    "search_space.append(Categorical(['auto', 'ball_tree', 'kd_tree','brute'], name='algorithm'))"
   ]
  },
  {
   "attachments": {},
   "cell_type": "markdown",
   "metadata": {
    "pycharm": {
     "name": "#%% md\n"
    }
   },
   "source": [
    "Note: We need to read the algorithm documentation to understand the function of each\n",
    "hyperparameter and the types of values we can add into the search space. For the K-nearest neighbors algorithm, we can read [here](https://scikit-learn.org/stable/modules/generated/sklearn.neighbors.KNeighborsClassifier.html).\n",
    "\n",
    "Our objective function uses cross-validation techniques to evaluate the performance of the K-nearest neighbors algorithm and finally calculate the average performance score."
   ]
  },
  {
   "cell_type": "code",
   "execution_count": 27,
   "metadata": {
    "ExecuteTime": {
     "end_time": "2024-02-21T18:59:44.505611Z",
     "start_time": "2024-02-21T18:59:44.502800Z"
    },
    "pycharm": {
     "name": "#%%\n"
    }
   },
   "outputs": [],
   "source": [
    "# Import argument to handle the search space\n",
    "from skopt.utils import use_named_args\n",
    "\n",
    "\n",
    "#2. Define the function used to evaluate a given configuration\n",
    "@use_named_args(search_space)\n",
    "def objective_function(**params):\n",
    "    # Configure the model with specific hyperparameters\n",
    "    clf = KNeighborsClassifier(**params, n_jobs=-1)\n",
    "    #Train the model\n",
    "    acc = cross_val_score(clf, X, y, scoring=f1_scorer, cv=3, n_jobs=-1).mean()\n",
    "    acc = round(acc,4)\n",
    "    return -acc"
   ]
  },
  {
   "attachments": {},
   "cell_type": "markdown",
   "metadata": {
    "pycharm": {
     "name": "#%% md\n"
    }
   },
   "source": [
    "Finally, we use Gaussian processes using the `gp_minimize()` function for the optimization process. We mainly need to add the following in the optimizer function.\n",
    "\n",
    "- Defined objective function.\n",
    "- The search space\n",
    "- The possible number of calls to the function needed to minimize"
   ]
  },
  {
   "cell_type": "code",
   "execution_count": 28,
   "metadata": {
    "ExecuteTime": {
     "end_time": "2024-02-21T18:59:54.163585Z",
     "start_time": "2024-02-21T18:59:44.506379Z"
    },
    "pycharm": {
     "name": "#%%\n"
    }
   },
   "outputs": [
    {
     "name": "stdout",
     "output_type": "stream",
     "text": [
      "Iteration No: 1 started. Evaluating function at random point.\n",
      "Iteration No: 1 ended. Evaluation done at random point.\n",
      "Time taken: 0.0151\n",
      "Function value obtained: -0.6533\n",
      "Current minimum: -0.6533\n",
      "Iteration No: 2 started. Evaluating function at random point.\n",
      "Iteration No: 2 ended. Evaluation done at random point.\n",
      "Time taken: 0.0411\n",
      "Function value obtained: -0.6542\n",
      "Current minimum: -0.6542\n",
      "Iteration No: 3 started. Evaluating function at random point.\n",
      "Iteration No: 3 ended. Evaluation done at random point.\n",
      "Time taken: 0.0243\n",
      "Function value obtained: -0.6277\n",
      "Current minimum: -0.6542\n",
      "Iteration No: 4 started. Evaluating function at random point.\n",
      "Iteration No: 4 ended. Evaluation done at random point.\n",
      "Time taken: 0.0143\n",
      "Function value obtained: -0.6479\n",
      "Current minimum: -0.6542\n",
      "Iteration No: 5 started. Evaluating function at random point.\n",
      "Iteration No: 5 ended. Evaluation done at random point.\n",
      "Time taken: 0.0139\n",
      "Function value obtained: -0.6367\n",
      "Current minimum: -0.6542\n",
      "Iteration No: 6 started. Evaluating function at random point.\n",
      "Iteration No: 6 ended. Evaluation done at random point.\n",
      "Time taken: 0.0134\n",
      "Function value obtained: -0.6463\n",
      "Current minimum: -0.6542\n",
      "Iteration No: 7 started. Evaluating function at random point.\n",
      "Iteration No: 7 ended. Evaluation done at random point.\n",
      "Time taken: 0.0136\n",
      "Function value obtained: -0.6478\n",
      "Current minimum: -0.6542\n",
      "Iteration No: 8 started. Evaluating function at random point.\n",
      "Iteration No: 8 ended. Evaluation done at random point.\n",
      "Time taken: 0.0231\n",
      "Function value obtained: -0.6275\n",
      "Current minimum: -0.6542\n",
      "Iteration No: 9 started. Evaluating function at random point.\n",
      "Iteration No: 9 ended. Evaluation done at random point.\n",
      "Time taken: 0.0217\n",
      "Function value obtained: -0.6364\n",
      "Current minimum: -0.6542\n",
      "Iteration No: 10 started. Evaluating function at random point.\n",
      "Iteration No: 10 ended. Evaluation done at random point.\n",
      "Time taken: 0.3452\n",
      "Function value obtained: -0.6317\n",
      "Current minimum: -0.6542\n",
      "Iteration No: 11 started. Searching for the next optimal point.\n",
      "Iteration No: 11 ended. Search finished for the next optimal point.\n",
      "Time taken: 0.3299\n",
      "Function value obtained: -0.5186\n",
      "Current minimum: -0.6542\n",
      "Iteration No: 12 started. Searching for the next optimal point.\n",
      "Iteration No: 12 ended. Search finished for the next optimal point.\n",
      "Time taken: 0.3656\n",
      "Function value obtained: -0.6591\n",
      "Current minimum: -0.6591\n",
      "Iteration No: 13 started. Searching for the next optimal point.\n",
      "Iteration No: 13 ended. Search finished for the next optimal point.\n",
      "Time taken: 0.2920\n",
      "Function value obtained: -0.6591\n",
      "Current minimum: -0.6591\n",
      "Iteration No: 14 started. Searching for the next optimal point.\n",
      "Iteration No: 14 ended. Search finished for the next optimal point.\n",
      "Time taken: 0.3028\n",
      "Function value obtained: -0.6591\n",
      "Current minimum: -0.6591\n",
      "Iteration No: 15 started. Searching for the next optimal point.\n",
      "Iteration No: 15 ended. Search finished for the next optimal point.\n",
      "Time taken: 0.3052\n",
      "Function value obtained: -0.6591\n",
      "Current minimum: -0.6591\n",
      "Iteration No: 16 started. Searching for the next optimal point.\n",
      "Iteration No: 16 ended. Search finished for the next optimal point.\n",
      "Time taken: 0.3014\n",
      "Function value obtained: -0.6591\n",
      "Current minimum: -0.6591\n",
      "Iteration No: 17 started. Searching for the next optimal point.\n",
      "Iteration No: 17 ended. Search finished for the next optimal point.\n",
      "Time taken: 0.3564\n",
      "Function value obtained: -0.6591\n",
      "Current minimum: -0.6591\n",
      "Iteration No: 18 started. Searching for the next optimal point.\n",
      "Iteration No: 18 ended. Search finished for the next optimal point.\n",
      "Time taken: 0.3306\n",
      "Function value obtained: -0.5671\n",
      "Current minimum: -0.6591\n",
      "Iteration No: 19 started. Searching for the next optimal point.\n",
      "Iteration No: 19 ended. Search finished for the next optimal point.\n",
      "Time taken: 0.3488\n",
      "Function value obtained: -0.6591\n",
      "Current minimum: -0.6591\n",
      "Iteration No: 20 started. Searching for the next optimal point.\n",
      "Iteration No: 20 ended. Search finished for the next optimal point.\n",
      "Time taken: 0.3603\n",
      "Function value obtained: -0.5757\n",
      "Current minimum: -0.6591\n",
      "Iteration No: 21 started. Searching for the next optimal point.\n",
      "Iteration No: 21 ended. Search finished for the next optimal point.\n",
      "Time taken: 0.4284\n",
      "Function value obtained: -0.5282\n",
      "Current minimum: -0.6591\n",
      "Iteration No: 22 started. Searching for the next optimal point.\n",
      "Iteration No: 22 ended. Search finished for the next optimal point.\n",
      "Time taken: 0.5171\n",
      "Function value obtained: -0.6297\n",
      "Current minimum: -0.6591\n",
      "Iteration No: 23 started. Searching for the next optimal point.\n",
      "Iteration No: 23 ended. Search finished for the next optimal point.\n",
      "Time taken: 0.3983\n",
      "Function value obtained: -0.6436\n",
      "Current minimum: -0.6591\n",
      "Iteration No: 24 started. Searching for the next optimal point.\n",
      "Iteration No: 24 ended. Search finished for the next optimal point.\n",
      "Time taken: 0.3788\n",
      "Function value obtained: -0.5709\n",
      "Current minimum: -0.6591\n",
      "Iteration No: 25 started. Searching for the next optimal point.\n",
      "Iteration No: 25 ended. Search finished for the next optimal point.\n",
      "Time taken: 0.3920\n",
      "Function value obtained: -0.6591\n",
      "Current minimum: -0.6591\n",
      "Iteration No: 26 started. Searching for the next optimal point.\n",
      "Iteration No: 26 ended. Search finished for the next optimal point.\n",
      "Time taken: 0.3821\n",
      "Function value obtained: -0.6591\n",
      "Current minimum: -0.6591\n",
      "Iteration No: 27 started. Searching for the next optimal point.\n",
      "Iteration No: 27 ended. Search finished for the next optimal point.\n",
      "Time taken: 0.5229\n",
      "Function value obtained: -0.5574\n",
      "Current minimum: -0.6591\n",
      "Iteration No: 28 started. Searching for the next optimal point.\n",
      "Iteration No: 28 ended. Search finished for the next optimal point.\n",
      "Time taken: 0.4016\n",
      "Function value obtained: -0.6380\n",
      "Current minimum: -0.6591\n",
      "Iteration No: 29 started. Searching for the next optimal point.\n",
      "Iteration No: 29 ended. Search finished for the next optimal point.\n",
      "Time taken: 0.3906\n",
      "Function value obtained: -0.6493\n",
      "Current minimum: -0.6591\n",
      "Iteration No: 30 started. Searching for the next optimal point.\n",
      "Iteration No: 30 ended. Search finished for the next optimal point.\n",
      "Time taken: 0.4391\n",
      "Function value obtained: -0.5121\n",
      "Current minimum: -0.6591\n"
     ]
    }
   ],
   "source": [
    "#Import optimizer from scikit-optimize library\n",
    "from skopt import gp_minimize\n",
    "\n",
    "#Configure numpy.int attribute when using the optimization method\n",
    "np.int = int\n",
    "\n",
    "#3. Perform optimization\n",
    "result = gp_minimize(\n",
    "    func=objective_function,\n",
    "    dimensions=search_space,\n",
    "    n_calls=30,\n",
    "    random_state=442,\n",
    "    verbose=True,\n",
    "    n_jobs=-1,\n",
    ")"
   ]
  },
  {
   "attachments": {},
   "cell_type": "markdown",
   "metadata": {
    "pycharm": {
     "name": "#%% md\n"
    }
   },
   "source": [
    "Note: The time it takes to run the search could range anywhere from a few minutes to hours, depending on the scope of the search space, dataset size, and the processing power of the hardware."
   ]
  },
  {
   "attachments": {},
   "cell_type": "markdown",
   "metadata": {
    "pycharm": {
     "name": "#%% md\n"
    }
   },
   "source": [
    "At the end of the optimization, we can use the following attributes to access all the results.\n",
    "\n",
    "- `x`: The location of the minimum, which indicates the combination of hyperparameters that gave the best results\n",
    "- `fun`: The function value at the minimum which indicates the best performance results"
   ]
  },
  {
   "cell_type": "code",
   "execution_count": 29,
   "metadata": {
    "ExecuteTime": {
     "end_time": "2024-02-21T18:59:54.193637Z",
     "start_time": "2024-02-21T18:59:54.167496Z"
    },
    "pycharm": {
     "name": "#%%\n"
    }
   },
   "outputs": [
    {
     "name": "stdout",
     "output_type": "stream",
     "text": [
      "best combination of hyperparameters: ['distance', 5, 21, 'auto']\n"
     ]
    }
   ],
   "source": [
    "# Show the best combination of hyperparameters\n",
    "print(\"best combination of hyperparameters:\", result.x)"
   ]
  },
  {
   "attachments": {},
   "cell_type": "markdown",
   "metadata": {},
   "source": [
    "This shows that when the hyperparameters have the above values as follows:\n",
    "\n",
    "- `weights` = 'distance'\n",
    "- `n_neighbors` = 5\n",
    "- `leaf_size` = 21\n",
    "- `algorithm` = 'auto'\n",
    "\n",
    "These will produce the best result based on the defined search space."
   ]
  },
  {
   "cell_type": "code",
   "execution_count": null,
   "metadata": {
    "ExecuteTime": {
     "end_time": "2024-02-21T18:59:54.237976Z",
     "start_time": "2024-02-21T18:59:54.196373Z"
    },
    "pycharm": {
     "name": "#%%\n"
    }
   },
   "outputs": [],
   "source": [
    "# Show the best score after performing the sequential model-based optimization method\n",
    "print(\"Best score:\", abs(result.fun))"
   ]
  },
  {
   "attachments": {},
   "cell_type": "markdown",
   "metadata": {
    "pycharm": {
     "name": "#%% md\n"
    }
   },
   "source": [
    "The best score is an F1-score of 0.6591 which is greater than 0.5671.\n",
    "\n",
    "As we can see the performance of the machine learning model has increased compared to the machine learning model trained with default hyperparameters."
   ]
  },
  {
   "attachments": {},
   "cell_type": "markdown",
   "metadata": {},
   "source": [
    "It is recommended to add or change more either options or values of hyperparameters on the **search_space**—number of calls in the `gp_minimize()` method—and then try to\n",
    "rerun it. It may be able to provide better results than what we have found."
   ]
  },
  {
   "cell_type": "markdown",
   "metadata": {},
   "source": [
    "# Advantages of the SMBO method\n",
    "\r\n",
    "Efficient use of resources: SMBO selects the most promising set of hyperparameters to evaluate the machine learning model and then updates its internal model (probabilistic model) based on the results. This results in more efficient use of computational resources because the model is not evaluated on hyperparameters that are unlikely to produce the best result.\r\n",
    "\r\n",
    "Can handle constraints: Many ML problems have some limitations on the hyperparameters, such as a limit on the search space or a maximum number of iterations. SMBO can handle these constraints by incorporating them into its internal model and selecting values of hyperparameters that satisfy the constraints.\r\n",
    "\r\n",
    "Provide balance between exploration and exploitation: SMBO uses a probabilistic model to balance the discovery of novel hyperparameters and the exploitation of those that show promise to produce a good performance. This makes it possible to search the hyperparameter space more thoroughly, preventing the algorithm from becoming stuck in the suboptimal region.\r\n",
    "\r\n",
    "Automated tuning: SMBO automates the process of hyperparameter optimization. This task can be time-consuming and requires domain expertise. SMBO requires the search space for selected hyperparameters and the definition of the objective function, and then the algorithm handles th\n",
    "\n",
    "# Disadvantages of the SMBO method\n",
    "\r\n",
    "Requires a good initial set of hyperparameters: SMBO primarily relies on the initial set of hyperparameters, which might be difficult if the user (data scientist) has a limited prior understanding of the problem. If the initial combination of hyperparameters is not properly selected, SMBO can get stuck in local optima, resulting in poor performance.\r\n",
    "\r\n",
    "May get trapped in local minima: SMBO is not guaranteed to find the global optimum of the objective function; instead, it may converge to a local minimum. This can be an issue if the local minimum is very different from the global minimum, and it could lead to the performance of the model being less than optimal.e rest."
   ]
  },
  {
   "cell_type": "code",
   "execution_count": null,
   "metadata": {},
   "outputs": [],
   "source": []
  }
 ],
 "metadata": {
  "hide_input": false,
  "kernelspec": {
   "display_name": "Python 3 (ipykernel)",
   "language": "python",
   "name": "python3"
  },
  "language_info": {
   "codemirror_mode": {
    "name": "ipython",
    "version": 3
   },
   "file_extension": ".py",
   "mimetype": "text/x-python",
   "name": "python",
   "nbconvert_exporter": "python",
   "pygments_lexer": "ipython3",
   "version": "3.8.10"
  },
  "toc": {
   "base_numbering": 1,
   "nav_menu": {},
   "number_sections": true,
   "sideBar": true,
   "skip_h1_title": false,
   "title_cell": "Table of Contents",
   "title_sidebar": "Contents",
   "toc_cell": false,
   "toc_position": {},
   "toc_section_display": true,
   "toc_window_display": false
  },
  "vscode": {
   "interpreter": {
    "hash": "0dc12b859b976848fa811fad33b4f2aa47124b6c15239b18f9dcbea69ef542e5"
   }
  }
 },
 "nbformat": 4,
 "nbformat_minor": 4
}
